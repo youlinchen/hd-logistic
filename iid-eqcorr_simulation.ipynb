{
 "cells": [
  {
   "cell_type": "code",
   "execution_count": 142,
   "metadata": {
    "collapsed": true
   },
   "outputs": [],
   "source": [
    "import numpy as np\n",
    "import pandas as pd\n",
    "import matplotlib.pyplot as plt\n",
    "from numpy import random\n",
    "from scipy import linalg, optimize, spatial\n",
    "from hdlogistic import *"
   ]
  },
  {
   "cell_type": "code",
   "execution_count": 2,
   "metadata": {
    "collapsed": true
   },
   "outputs": [],
   "source": [
    "from sklearn import datasets\n",
    "from sklearn.model_selection import GridSearchCV\n",
    "from sklearn.linear_model import LogisticRegression, LogisticRegressionCV\n",
    "from sklearn.metrics import log_loss"
   ]
  },
  {
   "cell_type": "code",
   "execution_count": 208,
   "metadata": {},
   "outputs": [],
   "source": [
    "res = {}"
   ]
  },
  {
   "cell_type": "code",
   "execution_count": 467,
   "metadata": {},
   "outputs": [],
   "source": [
    "def dataGenerator(n, p, dependence, sparsity, parameters):\n",
    "    if dependence == 'iid':\n",
    "        X = np.random.randn(n,p)\n",
    "    elif dependence == 'eqcorr':\n",
    "        eta = parameters['eta']\n",
    "        X = np.random.randn(n,p)\n",
    "        w = np.random.randn(n,1)\n",
    "        X = X + (1-eta)*w\n",
    "    elif dependence == 'eqcorr2':\n",
    "        eta = parameters['eta']\n",
    "        X = np.random.randn(n,p)\n",
    "        X = X + (1-eta)*X[:,0:4].sum(axis=1,keepdims=True)\n",
    "    \n",
    "    beta_true = np.zeros((p,1))\n",
    "    if sparsity == 'pol':\n",
    "        b = parameters['b']\n",
    "        r = parameters['r']\n",
    "        beta_true = np.array([[b/((k+1)**(r)) for k in range(p)]]).T\n",
    "    elif sparsity == 'exp':\n",
    "        b = parameters['b']\n",
    "        c = parameters['c']\n",
    "        beta_true = np.array([[b/(c**(k+1)) for k in range(p) if k<50] + [0.0]*(p-50)]).T\n",
    "    elif sparsity == 'str':\n",
    "        beta = [parameters['beta'+str(s)] for s in range(parameters['s'])]\n",
    "        beta_true = np.array([beta + [0]*(p-parameters['s'])]).T\n",
    "        \n",
    "    return np.float64(np.random.rand(n).reshape(n,1) < np.exp(X @ beta_true)/(1+np.exp(X @ beta_true))).ravel(), X, beta_true"
   ]
  },
  {
   "cell_type": "markdown",
   "metadata": {},
   "source": [
    "# Model\n",
    "$Y \\sim logit( \\sum_{i=1}^p \\beta_i X_i)$"
   ]
  },
  {
   "cell_type": "markdown",
   "metadata": {},
   "source": [
    "## CGA+HDAIC vs lasso"
   ]
  },
  {
   "cell_type": "code",
   "execution_count": 468,
   "metadata": {},
   "outputs": [],
   "source": [
    "def simulation(n, n_test, p, m, dependence, sparsity, parameters):\n",
    "#     print('*'+dependence+' '+sparsity)\n",
    "    \n",
    "    wn, C, cv = parameters['wn'], parameters['C'], parameters['cv']\n",
    "    \n",
    "    if sparsity == 'pol':\n",
    "        print(' n:'+str(n), 'wn:'+str(wn), 'C:'+str(C), 'b:', parameters['b'], 'r:', parameters['r'])\n",
    "    elif sparsity == 'exp':\n",
    "        print(' n:'+str(n), 'wn:'+str(wn), 'C:'+str(C), 'b:', parameters['b'], 'c:', parameters['c'])\n",
    "    elif sparsity == 'str':\n",
    "        beta = [parameters['beta'+str(s)] for s in range(parameters['s'])]\n",
    "        print(' n:'+str(n), 'beta:', beta)\n",
    "    \n",
    "    logLossCGA = np.zeros(m)\n",
    "    logLossLasso = np.zeros(m)\n",
    "    logLossLassoCV = np.zeros(m)\n",
    "    \n",
    "    logLossCGA = np.zeros(m)\n",
    "    logLossLasso = np.zeros(m)\n",
    "    logLossLassoCV = np.zeros(m)\n",
    "    \n",
    "    for t in range(m):\n",
    "        y, X, beta_true =  dataGenerator(n, p, dependence, sparsity, parameters)\n",
    "        y_test, X_test, _ =  dataGenerator(n_test, p, dependence, sparsity, parameters)\n",
    "\n",
    "        # CGA\n",
    "        hdLogisticReg = HighDimensionalLogisticRegression(trimming=False, fit_intercept=False, ic='AIC', wn = wn, kn=4, method='Newton-CG').fit(X,y)\n",
    "        y_hat = hdLogisticReg.predict_proba(X_test)\n",
    "        logLossCGA[t] = log_loss(y_test, y_hat)\n",
    "\n",
    "        #lasso 0.5\n",
    "        clf_l1 = LogisticRegression(C=C, penalty='l1', solver='liblinear', fit_intercept=False).fit(X, y)\n",
    "        y_hat = clf_l1.predict_proba(X_test)\n",
    "        logLossLasso[t] = log_loss(y_test, y_hat)\n",
    "\n",
    "        #lasso 10CV\n",
    "        clfL1CV = LogisticRegressionCV(cv=cv, penalty='l1', solver='liblinear', fit_intercept=False).fit(X, y)\n",
    "        y_hat = clfL1CV.predict_proba(X_test)\n",
    "        logLossLassoCV[t] = log_loss(y_test, y_hat)\n",
    "    \n",
    "    print(' logLossCGA: {:.4f}, std: {:.4f}'.format(logLossCGA.mean(), logLossCGA.std()))\n",
    "    print(' logLossLasso: {:.4f}, std: {:.4f}'.format(logLossLasso.mean(), logLossLasso.std()))\n",
    "    print(' logLossLassoCV: {:.4f}, std: {:.4f}'.format(logLossLassoCV.mean(), logLossLassoCV.std()))\n",
    "    \n",
    "    return logLossCGA.mean(), logLossLasso.mean(), logLossLassoCV.mean(), logLossCGA.std(), logLossLasso.std(), logLossLassoCV.std()"
   ]
  },
  {
   "cell_type": "code",
   "execution_count": 225,
   "metadata": {},
   "outputs": [
    {
     "name": "stdout",
     "output_type": "stream",
     "text": [
      "*iid pol ------------------------\n",
      " n:200 wn:2.0 C:0.5 b: 5.0 r: 1.5\n",
      " logLossCGA: 0.3138, std: 0.0503\n",
      " logLossLasso: 0.3451, std: 0.0417\n",
      " logLossLassoCV: 0.3933, std: 0.0625\n",
      " n:400 wn:2.0 C:0.5 b: 5.0 r: 1.5\n",
      " logLossCGA: 0.2817, std: 0.0322\n",
      " logLossLasso: 0.3329, std: 0.0415\n",
      " logLossLassoCV: 0.3382, std: 0.0385\n",
      " n:600 wn:2.0 C:0.5 b: 5.0 r: 1.5\n",
      " logLossCGA: 0.2727, std: 0.0333\n",
      " logLossLasso: 0.3348, std: 0.0437\n",
      " logLossLassoCV: 0.3064, std: 0.0273\n",
      " n:800 wn:2.0 C:0.5 b: 5.0 r: 1.5\n",
      " logLossCGA: 0.2621, std: 0.0328\n",
      " logLossLasso: 0.3329, std: 0.0466\n",
      " logLossLassoCV: 0.2874, std: 0.0241\n",
      "---------------------------------\n",
      "*iid exp ------------------------\n",
      " n:200 wn:2.0 C:0.5 b: 5.0 c: 2.0\n",
      " logLossCGA: 0.4286, std: 0.0516\n",
      " logLossLasso: 0.5233, std: 0.0580\n",
      " logLossLassoCV: 0.5160, std: 0.0833\n",
      " n:400 wn:2.0 C:0.5 b: 5.0 c: 2.0\n",
      " logLossCGA: 0.3993, std: 0.0344\n",
      " logLossLasso: 0.5392, std: 0.0594\n",
      " logLossLassoCV: 0.4371, std: 0.0454\n",
      " n:600 wn:2.0 C:0.5 b: 5.0 c: 2.0\n",
      " logLossCGA: 0.3958, std: 0.0327\n",
      " logLossLasso: 0.5560, std: 0.0612\n",
      " logLossLassoCV: 0.4143, std: 0.0365\n",
      " n:800 wn:2.0 C:0.5 b: 5.0 c: 2.0\n",
      " logLossCGA: 0.3870, std: 0.0347\n",
      " logLossLasso: 0.5678, std: 0.0641\n",
      " logLossLassoCV: 0.4019, std: 0.0292\n",
      "---------------------------------\n",
      "*iid str ------------------------\n",
      " n:200 beta: [3, 4, 3, 5]\n",
      " logLossCGA: 0.1791, std: 0.0394\n",
      " logLossLasso: 0.2801, std: 0.0342\n",
      " logLossLassoCV: 0.3306, std: 0.0841\n",
      " n:400 beta: [3, 4, 3, 5]\n",
      " logLossCGA: 0.1711, std: 0.0289\n",
      " logLossLasso: 0.2453, std: 0.0305\n",
      " logLossLassoCV: 0.3149, std: 0.0277\n",
      " n:600 beta: [3, 4, 3, 5]\n",
      " logLossCGA: 0.1678, std: 0.0243\n",
      " logLossLasso: 0.2368, std: 0.0306\n",
      " logLossLassoCV: 0.2708, std: 0.0183\n",
      " n:800 beta: [3, 4, 3, 5]\n",
      " logLossCGA: 0.1676, std: 0.0278\n",
      " logLossLasso: 0.2333, std: 0.0324\n",
      " logLossLassoCV: 0.2461, std: 0.0167\n",
      "---------------------------------\n"
     ]
    }
   ],
   "source": [
    "# res[(dependence, sparsity, n, n_test, m, *list(parameters.values()))]\n",
    "dependence = ['iid']\n",
    "sparsity = ['pol', 'exp', 'str']\n",
    "ns = [200, 400, 600, 800]\n",
    "n_test = 300\n",
    "m = 300\n",
    "# beta = [3, 4, 3, 5]\n",
    "parameters = {'wn':2.0, 'C':0.5, 'cv':10 , 'b':5.0, 'r':1.5, 'c':2.0, 'eta':0.2, \n",
    "              's':4, 'beta0':3, 'beta1':4, 'beta2':3, 'beta3':5}\n",
    "for d in dependence:\n",
    "    for s in sparsity:\n",
    "        print('*'+d+' '+s+' '+'------------------------')\n",
    "        for n in ns:\n",
    "            res[(d, s, n, n_test, m, *list(parameters.values()))] = simulation(n, n_test, 5*n, m, d, s, parameters)\n",
    "        print('---------------------------------')"
   ]
  },
  {
   "cell_type": "code",
   "execution_count": 243,
   "metadata": {},
   "outputs": [
    {
     "name": "stdout",
     "output_type": "stream",
     "text": [
      "*eqcorr pol ------------------------\n",
      " n:200 wn:2.0 C:0.5 b: 5.0 r: 1.5\n",
      " logLossCGA: 0.3243, std: 0.2107\n",
      " logLossLasso: 0.1982, std: 0.0330\n",
      " logLossLassoCV: 0.2526, std: 0.0676\n",
      " n:400 wn:2.0 C:0.5 b: 5.0 r: 1.5\n",
      " logLossCGA: 0.2526, std: 0.1413\n",
      " logLossLasso: 0.1787, std: 0.0340\n",
      " logLossLassoCV: 0.2198, std: 0.0376\n",
      " n:600 wn:2.0 C:0.5 b: 5.0 r: 1.5\n",
      " logLossCGA: 0.2183, std: 0.0418\n",
      " logLossLasso: 0.1753, std: 0.0316\n",
      " logLossLassoCV: 0.1932, std: 0.0269\n",
      " n:800 wn:2.0 C:0.5 b: 5.0 r: 1.5\n",
      " logLossCGA: 0.2020, std: 0.0400\n",
      " logLossLasso: 0.1728, std: 0.0328\n",
      " logLossLassoCV: 0.1811, std: 0.0199\n",
      "---------------------------------\n",
      "*eqcorr exp ------------------------\n",
      " n:200 wn:2.0 C:0.5 b: 5.0 c: 2.0\n",
      " logLossCGA: 0.3173, std: 0.0593\n",
      " logLossLasso: 0.3512, std: 0.0513\n",
      " logLossLassoCV: 0.3746, std: 0.0529\n",
      " n:400 wn:2.0 C:0.5 b: 5.0 c: 2.0\n",
      " logLossCGA: 0.2846, std: 0.0364\n",
      " logLossLasso: 0.3513, std: 0.0478\n",
      " logLossLassoCV: 0.3171, std: 0.0348\n",
      " n:600 wn:2.0 C:0.5 b: 5.0 c: 2.0\n",
      " logLossCGA: 0.2687, std: 0.0345\n",
      " logLossLasso: 0.3468, std: 0.0514\n",
      " logLossLassoCV: 0.2888, std: 0.0321\n",
      " n:800 wn:2.0 C:0.5 b: 5.0 c: 2.0\n",
      " logLossCGA: 0.2609, std: 0.0359\n",
      " logLossLasso: 0.3490, std: 0.0531\n",
      " logLossLassoCV: 0.2784, std: 0.0303\n",
      "---------------------------------\n",
      "*eqcorr str ------------------------\n",
      " n:200 beta: [3, 4, 3, 5]\n",
      " logLossCGA: 0.2113, std: 0.2864\n",
      " logLossLasso: 0.2010, std: 0.0388\n",
      " logLossLassoCV: 0.2656, std: 0.0737\n",
      " n:400 beta: [3, 4, 3, 5]\n",
      " logLossCGA: 0.0967, std: 0.0208\n",
      " logLossLasso: 0.1669, std: 0.0259\n",
      " logLossLassoCV: 0.2171, std: 0.0306\n",
      " n:600 beta: [3, 4, 3, 5]\n",
      " logLossCGA: 0.0952, std: 0.0214\n",
      " logLossLasso: 0.1586, std: 0.0287\n",
      " logLossLassoCV: 0.1896, std: 0.0195\n",
      " n:800 beta: [3, 4, 3, 5]\n",
      " logLossCGA: 0.0936, std: 0.0223\n",
      " logLossLasso: 0.1557, std: 0.0267\n",
      " logLossLassoCV: 0.1814, std: 0.0515\n",
      "---------------------------------\n",
      "*eqcorr2 pol ------------------------\n",
      " n:200 wn:2.0 C:0.5 b: 5.0 r: 1.5\n",
      " logLossCGA: 0.1665, std: 0.1258\n",
      " logLossLasso: 0.1114, std: 0.0217\n",
      " logLossLassoCV: 0.1662, std: 0.0476\n",
      " n:400 wn:2.0 C:0.5 b: 5.0 r: 1.5\n",
      " logLossCGA: 0.1078, std: 0.0391\n",
      " logLossLasso: 0.0955, std: 0.0208\n",
      " logLossLassoCV: 0.1627, std: 0.0973\n",
      " n:600 wn:2.0 C:0.5 b: 5.0 r: 1.5\n",
      " logLossCGA: 0.0851, std: 0.0258\n",
      " logLossLasso: 0.0902, std: 0.0185\n",
      " logLossLassoCV: 0.2131, std: 0.1058\n",
      " n:800 wn:2.0 C:0.5 b: 5.0 r: 1.5\n",
      " logLossCGA: 0.0754, std: 0.0235\n",
      " logLossLasso: 0.0883, std: 0.0208\n",
      " logLossLassoCV: 0.2193, std: 0.0853\n",
      "---------------------------------\n",
      "*eqcorr2 exp ------------------------\n",
      " n:200 wn:2.0 C:0.5 b: 5.0 c: 2.0\n",
      " logLossCGA: 0.1847, std: 0.0600\n",
      " logLossLasso: 0.1728, std: 0.0316\n",
      " logLossLassoCV: 0.2245, std: 0.0524\n",
      " n:400 wn:2.0 C:0.5 b: 5.0 c: 2.0\n",
      " logLossCGA: 0.1514, std: 0.0320\n",
      " logLossLasso: 0.1693, std: 0.0353\n",
      " logLossLassoCV: 0.2498, std: 0.1085\n",
      " n:600 wn:2.0 C:0.5 b: 5.0 c: 2.0\n",
      " logLossCGA: 0.1451, std: 0.0277\n",
      " logLossLasso: 0.1713, std: 0.0341\n",
      " logLossLassoCV: 0.2775, std: 0.0870\n",
      " n:800 wn:2.0 C:0.5 b: 5.0 c: 2.0\n",
      " logLossCGA: 0.1384, std: 0.0253\n",
      " logLossLasso: 0.1696, std: 0.0370\n",
      " logLossLassoCV: 0.2642, std: 0.0629\n",
      "---------------------------------\n",
      "*eqcorr2 str ------------------------\n",
      " n:200 beta: [3, 4, 3, 5]\n",
      " logLossCGA: 0.2311, std: 0.3006\n",
      " logLossLasso: 0.1055, std: 0.0170\n",
      " logLossLassoCV: 0.1175, std: 0.0509\n",
      " n:400 beta: [3, 4, 3, 5]\n",
      " logLossCGA: 0.0789, std: 0.0523\n",
      " logLossLasso: 0.0845, std: 0.0171\n",
      " logLossLassoCV: 0.1255, std: 0.0926\n",
      " n:600 beta: [3, 4, 3, 5]\n",
      " logLossCGA: 0.0544, std: 0.0526\n",
      " logLossLasso: 0.0741, std: 0.0158\n",
      " logLossLassoCV: 0.1972, std: 0.1205\n",
      " n:800 beta: [3, 4, 3, 5]\n",
      " logLossCGA: 0.0452, std: 0.0161\n",
      " logLossLasso: 0.0699, std: 0.0153\n",
      " logLossLassoCV: 0.2061, std: 0.0981\n",
      "---------------------------------\n"
     ]
    }
   ],
   "source": [
    "# res[dependence, sparsity, n, n_test, m, parameters.values()]\n",
    "dependence = ['eqcorr','eqcorr2']\n",
    "sparsity = ['pol', 'exp', 'str']\n",
    "ns = [200, 400, 600, 800]\n",
    "n_test = 300\n",
    "m = 300\n",
    "# beta = [3, 4, 3, 5]\n",
    "parameters = {'wn':2.0, 'C':0.5, 'cv':10 , 'b':5.0, 'r':1.5, 'c':2.0, 'eta':0.2, \n",
    "              's':4, 'beta0':3, 'beta1':4, 'beta2':3, 'beta3':5}\n",
    "for d in dependence:\n",
    "    for s in sparsity:\n",
    "        print('*'+d+' '+s+' '+'------------------------')\n",
    "        for n in ns:\n",
    "            res[(d, s, n, n_test, m, *list(parameters.values()))] = simulation(n, n_test, 5*n, m, d, s, parameters)\n",
    "        print('---------------------------------')"
   ]
  },
  {
   "cell_type": "code",
   "execution_count": 471,
   "metadata": {},
   "outputs": [
    {
     "name": "stdout",
     "output_type": "stream",
     "text": [
      "*eqcorr pol ------------------------\n",
      " n:200 wn:2.0 C:0.5 b: 5.0 r: 1.5\n",
      " logLossCGA: 0.3210, std: 0.0547\n",
      " logLossLasso: 0.3257, std: 0.0402\n",
      " logLossLassoCV: 0.3736, std: 0.0784\n",
      " n:400 wn:2.0 C:0.5 b: 5.0 r: 1.5\n",
      " logLossCGA: 0.2831, std: 0.0355\n",
      " logLossLasso: 0.3077, std: 0.0415\n",
      " logLossLassoCV: 0.3259, std: 0.0449\n",
      " n:600 wn:2.0 C:0.5 b: 5.0 r: 1.5\n",
      " logLossCGA: 0.2703, std: 0.0342\n",
      " logLossLasso: 0.3076, std: 0.0428\n",
      " logLossLassoCV: 0.2989, std: 0.0281\n",
      " n:800 wn:2.0 C:0.5 b: 5.0 r: 1.5\n",
      " logLossCGA: 0.2609, std: 0.0342\n",
      " logLossLasso: 0.3073, std: 0.0472\n",
      " logLossLassoCV: 0.2781, std: 0.0242\n",
      "---------------------------------\n",
      "*eqcorr exp ------------------------\n",
      " n:200 wn:2.0 C:0.5 b: 5.0 c: 2.0\n",
      " logLossCGA: 0.4176, std: 0.0473\n",
      " logLossLasso: 0.5063, std: 0.0569\n",
      " logLossLassoCV: 0.5050, std: 0.0860\n",
      " n:400 wn:2.0 C:0.5 b: 5.0 c: 2.0\n",
      " logLossCGA: 0.3859, std: 0.0331\n",
      " logLossLasso: 0.5197, std: 0.0634\n",
      " logLossLassoCV: 0.4221, std: 0.0446\n",
      " n:600 wn:2.0 C:0.5 b: 5.0 c: 2.0\n",
      " logLossCGA: 0.3811, std: 0.0345\n",
      " logLossLasso: 0.5335, std: 0.0582\n",
      " logLossLassoCV: 0.3993, std: 0.0305\n",
      " n:800 wn:2.0 C:0.5 b: 5.0 c: 2.0\n",
      " logLossCGA: 0.3752, std: 0.0337\n",
      " logLossLasso: 0.5434, std: 0.0631\n",
      " logLossLassoCV: 0.3884, std: 0.0263\n",
      "---------------------------------\n",
      "*eqcorr str ------------------------\n",
      " n:200 beta: [3, 4, 3, 5]\n",
      " logLossCGA: 0.1693, std: 0.0390\n",
      " logLossLasso: 0.2642, std: 0.0321\n",
      " logLossLassoCV: 0.3306, std: 0.0870\n",
      " n:400 beta: [3, 4, 3, 5]\n",
      " logLossCGA: 0.1600, std: 0.0275\n",
      " logLossLasso: 0.2345, std: 0.0284\n",
      " logLossLassoCV: 0.3029, std: 0.0253\n",
      " n:600 beta: [3, 4, 3, 5]\n",
      " logLossCGA: 0.1580, std: 0.0264\n",
      " logLossLasso: 0.2237, std: 0.0308\n",
      " logLossLassoCV: 0.2572, std: 0.0185\n",
      " n:800 beta: [3, 4, 3, 5]\n",
      " logLossCGA: 0.1528, std: 0.0246\n",
      " logLossLasso: 0.2157, std: 0.0301\n",
      " logLossLassoCV: 0.2324, std: 0.0154\n",
      "---------------------------------\n"
     ]
    }
   ],
   "source": [
    "# res[dependence, sparsity, n, n_test, m, parameters.values()]\n",
    "dependence = ['eqcorr']\n",
    "sparsity = ['pol', 'exp', 'str']\n",
    "ns = [200, 400, 600, 800]\n",
    "n_test = 300\n",
    "m = 300\n",
    "# beta = [3, 4, 3, 5]\n",
    "parameters = {'wn':2.0, 'C':0.5, 'cv':10 , 'b':5.0, 'r':1.5, 'c':2.0, 'eta':0.8, \n",
    "              's':4, 'beta0':3, 'beta1':4, 'beta2':3, 'beta3':5}\n",
    "for d in dependence:\n",
    "    for s in sparsity:\n",
    "        print('*'+d+' '+s+' '+'------------------------')\n",
    "        for n in ns:\n",
    "            res[(d, s, n, n_test, m, *list(parameters.values()))] = simulation(n, n_test, 5*n, m, d, s, parameters)\n",
    "        print('---------------------------------')"
   ]
  },
  {
   "cell_type": "code",
   "execution_count": 472,
   "metadata": {},
   "outputs": [
    {
     "name": "stdout",
     "output_type": "stream",
     "text": [
      "*eqcorr2 pol ------------------------\n",
      " n:200 wn:2.0 C:0.5 b: 5.0 r: 1.5\n",
      " logLossCGA: 0.2581, std: 0.0425\n",
      " logLossLasso: 0.2666, std: 0.0337\n",
      " logLossLassoCV: 0.3260, std: 0.0670\n",
      " n:400 wn:2.0 C:0.5 b: 5.0 r: 1.5\n",
      " logLossCGA: 0.2214, std: 0.0382\n",
      " logLossLasso: 0.2506, std: 0.0370\n",
      " logLossLassoCV: 0.2782, std: 0.0292\n",
      " n:600 wn:2.0 C:0.5 b: 5.0 r: 1.5\n",
      " logLossCGA: 0.1975, std: 0.0317\n",
      " logLossLasso: 0.2425, std: 0.0394\n",
      " logLossLassoCV: 0.2461, std: 0.0208\n",
      " n:800 wn:2.0 C:0.5 b: 5.0 r: 1.5\n",
      " logLossCGA: 0.1923, std: 0.0300\n",
      " logLossLasso: 0.2395, std: 0.0378\n",
      " logLossLassoCV: 0.2291, std: 0.0185\n",
      "---------------------------------\n",
      "*eqcorr2 exp ------------------------\n",
      " n:200 wn:2.0 C:0.5 b: 5.0 c: 2.0\n",
      " logLossCGA: 0.3641, std: 0.0481\n",
      " logLossLasso: 0.4276, std: 0.0480\n",
      " logLossLassoCV: 0.4630, std: 0.1228\n",
      " n:400 wn:2.0 C:0.5 b: 5.0 c: 2.0\n",
      " logLossCGA: 0.3374, std: 0.0341\n",
      " logLossLasso: 0.4362, std: 0.0546\n",
      " logLossLassoCV: 0.3781, std: 0.0656\n",
      " n:600 wn:2.0 C:0.5 b: 5.0 c: 2.0\n",
      " logLossCGA: 0.3265, std: 0.0331\n",
      " logLossLasso: 0.4492, std: 0.0574\n",
      " logLossLassoCV: 0.3474, std: 0.0327\n",
      " n:800 wn:2.0 C:0.5 b: 5.0 c: 2.0\n",
      " logLossCGA: 0.3225, std: 0.0352\n",
      " logLossLasso: 0.4600, std: 0.0622\n",
      " logLossLassoCV: 0.3427, std: 0.0386\n",
      "---------------------------------\n",
      "*eqcorr2 str ------------------------\n",
      " n:200 beta: [3, 4, 3, 5]\n",
      " logLossCGA: 0.1529, std: 0.1206\n",
      " logLossLasso: 0.2348, std: 0.0306\n",
      " logLossLassoCV: 0.3371, std: 0.0679\n",
      " n:400 beta: [3, 4, 3, 5]\n",
      " logLossCGA: 0.1244, std: 0.0257\n",
      " logLossLasso: 0.2040, std: 0.0270\n",
      " logLossLassoCV: 0.2597, std: 0.0182\n",
      " n:600 beta: [3, 4, 3, 5]\n",
      " logLossCGA: 0.1261, std: 0.0227\n",
      " logLossLasso: 0.2013, std: 0.0287\n",
      " logLossLassoCV: 0.2229, std: 0.0138\n",
      " n:800 beta: [3, 4, 3, 5]\n",
      " logLossCGA: 0.1226, std: 0.0226\n",
      " logLossLasso: 0.1948, std: 0.0280\n",
      " logLossLassoCV: 0.2014, std: 0.0137\n",
      "---------------------------------\n"
     ]
    }
   ],
   "source": [
    "# res[dependence, sparsity, n, n_test, m, parameters.values()]\n",
    "dependence = ['eqcorr2']\n",
    "sparsity = ['pol', 'exp', 'str']\n",
    "ns = [200, 400, 600, 800]\n",
    "n_test = 300\n",
    "m = 300\n",
    "# beta = [3, 4, 3, 5]\n",
    "parameters = {'wn':2.0, 'C':0.5, 'cv':10 , 'b':5.0, 'r':1.5, 'c':2.0, 'eta':0.9, \n",
    "              's':4, 'beta0':3, 'beta1':4, 'beta2':3, 'beta3':5}\n",
    "for d in dependence:\n",
    "    for s in sparsity:\n",
    "        print('*'+d+' '+s+' '+'------------------------')\n",
    "        for n in ns:\n",
    "            res[(d, s, n, n_test, m, *list(parameters.values()))] = simulation(n, n_test, 5*n, m, d, s, parameters)\n",
    "        print('---------------------------------')"
   ]
  },
  {
   "cell_type": "code",
   "execution_count": null,
   "metadata": {},
   "outputs": [],
   "source": []
  },
  {
   "cell_type": "markdown",
   "metadata": {},
   "source": [
    "## IID"
   ]
  },
  {
   "cell_type": "code",
   "execution_count": 568,
   "metadata": {},
   "outputs": [],
   "source": [
    "data={}"
   ]
  },
  {
   "cell_type": "code",
   "execution_count": 569,
   "metadata": {},
   "outputs": [
    {
     "data": {
      "image/png": "[encoded data removed]",
      "text/plain": [
       "<Figure size 432x288 with 1 Axes>"
      ]
     },
     "metadata": {},
     "output_type": "display_data"
    }
   ],
   "source": [
    "dependence = ['iid']\n",
    "sparsity = ['pol']\n",
    "parameters = {'wn':2.0, 'C':0.5, 'cv':10 , 'b':5.0, 'r':1.5, 'c':2.0, 'eta':0.2, \n",
    "              's':4, 'beta0':3, 'beta1':4, 'beta2':3, 'beta3':5}\n",
    "ns = [200, 400, 600, 800]\n",
    "n_test = 300\n",
    "m = 300\n",
    "\n",
    "res_GCA = np.zeros(len(ns))\n",
    "res_lasso = np.zeros(len(ns))\n",
    "res_lassoCV = np.zeros(len(ns))\n",
    "sd_GCA = np.zeros(len(ns))\n",
    "sd_lasso = np.zeros(len(ns))\n",
    "sd_lassoCV = np.zeros(len(ns))\n",
    "\n",
    "labelCGA = 'GCA('+str(parameters['wn'])+')'\n",
    "labelLasso = 'lasso('+str(parameters['C'])+')'\n",
    "labelLassoCV = 'lassoCV('+str(parameters['cv'])+')'\n",
    "\n",
    "for d in dependence:\n",
    "    for s in sparsity:\n",
    "        for i,n in enumerate(ns):\n",
    "            res_GCA[i] = res[(d, s, n, n_test, m, *list(parameters.values()))][0]\n",
    "            res_lasso[i] = res[(d, s, n, n_test, m, *list(parameters.values()))][1]\n",
    "            res_lassoCV[i] = res[(d, s, n, n_test, m, *list(parameters.values()))][2]\n",
    "            sd_GCA[i] = res[(d, s, n, n_test, m, *list(parameters.values()))][3]\n",
    "            sd_lasso[i] = res[(d, s, n, n_test, m, *list(parameters.values()))][4]\n",
    "            sd_lassoCV[i] = res[(d, s, n, n_test, m, *list(parameters.values()))][5]\n",
    "        plt.plot(ns, res_GCA, '.-', label=labelCGA)\n",
    "        plt.plot(ns, res_lasso, '.-', label=labelLasso)\n",
    "        plt.plot(ns, res_lassoCV, '.-', label=labelLassoCV)\n",
    "        plt.fill_between(ns, res_GCA-sd_GCA/2, res_GCA+sd_GCA/2, alpha = 0.3, label = '0.5 sd')\n",
    "        plt.fill_between(ns, res_lasso-sd_lasso/2, res_lasso+sd_lasso/2, alpha = 0.3)\n",
    "        plt.fill_between(ns, res_lassoCV-sd_lassoCV/2, res_lassoCV+sd_lassoCV/2, alpha = 0.3)\n",
    "plt.ylim(0.1, 0.6)\n",
    "plt.title(d+', '+s+', r='+str(parameters['r']))\n",
    "plt.xlabel('sample size')\n",
    "plt.ylabel('negative log-likelihood')\n",
    "plt.legend()\n",
    "plt.savefig(d+'-'+s+'-r-'+str(parameters['r']).replace(\".\", \"\")+'.png', bbox_inches='tight')\n",
    "plt.show()"
   ]
  },
  {
   "cell_type": "code",
   "execution_count": 570,
   "metadata": {},
   "outputs": [
    {
     "data": {
      "text/plain": [
       "array([0.0502724 , 0.03219113, 0.03329532, 0.03280361])"
      ]
     },
     "execution_count": 570,
     "metadata": {},
     "output_type": "execute_result"
    }
   ],
   "source": [
    "sd_GCA"
   ]
  },
  {
   "cell_type": "code",
   "execution_count": 571,
   "metadata": {},
   "outputs": [],
   "source": [
    "data[d] = [labelCGA,*res_GCA]\n",
    "data[s]= [labelLasso,*res_lasso]\n",
    "data['r='+str(parameters['r'])] = [labelLassoCV,*res_lassoCV]"
   ]
  },
  {
   "cell_type": "code",
   "execution_count": 572,
   "metadata": {},
   "outputs": [
    {
     "data": {
      "image/png": "[encoded data removed]",
      "text/plain": [
       "<Figure size 432x288 with 1 Axes>"
      ]
     },
     "metadata": {},
     "output_type": "display_data"
    }
   ],
   "source": [
    "dependence = ['iid']\n",
    "sparsity = ['exp']\n",
    "parameters = {'wn':2.0, 'C':0.5, 'cv':10 , 'b':5.0, 'r':1.5, 'c':2.0, 'eta':0.2, \n",
    "              's':4, 'beta0':3, 'beta1':4, 'beta2':3, 'beta3':5}\n",
    "ns = [200, 400, 600, 800]\n",
    "n_test = 300\n",
    "m = 300\n",
    "\n",
    "res_GCA = np.zeros(len(ns))\n",
    "res_lasso = np.zeros(len(ns))\n",
    "res_lassoCV = np.zeros(len(ns))\n",
    "\n",
    "labelCGA = 'GCA('+str(parameters['wn'])+')'\n",
    "labelLasso = 'lasso('+str(parameters['C'])+')'\n",
    "labelLassoCV = 'lassoCV('+str(parameters['cv'])+')'\n",
    "\n",
    "for d in dependence:\n",
    "    for s in sparsity:\n",
    "        for i,n in enumerate(ns):\n",
    "            res_GCA[i] = res[(d, s, n, n_test, m, *list(parameters.values()))][0]\n",
    "            res_lasso[i] = res[(d, s, n, n_test, m, *list(parameters.values()))][1]\n",
    "            res_lassoCV[i] = res[(d, s, n, n_test, m, *list(parameters.values()))][2]\n",
    "        plt.plot(ns, res_GCA, '.-', label='GCA('+str(parameters['wn'])+')')\n",
    "        plt.plot(ns, res_lasso, '.-', label='lasso('+str(parameters['C'])+')')\n",
    "        plt.plot(ns, res_lassoCV, '.-', label='lassoCV('+str(parameters['cv'])+')')\n",
    "        plt.fill_between(ns, res_GCA-sd_GCA/2, res_GCA+sd_GCA/2, alpha = 0.3, label = '0.5 sd')\n",
    "        plt.fill_between(ns, res_lasso-sd_lasso/2, res_lasso+sd_lasso/2, alpha = 0.3)\n",
    "        plt.fill_between(ns, res_lassoCV-sd_lassoCV/2, res_lassoCV+sd_lassoCV/2, alpha = 0.3)\n",
    "plt.ylim(0.1, 0.6)\n",
    "plt.title(d+', '+s+', c='+str(parameters['c']))\n",
    "plt.xlabel('sample size')\n",
    "plt.ylabel('negative log-likelihood')\n",
    "plt.legend()\n",
    "plt.savefig(d+'-'+s+'-c-'+str(parameters['c']).replace(\".\", \"\")+'.png', bbox_inches='tight')\n",
    "plt.show()"
   ]
  },
  {
   "cell_type": "code",
   "execution_count": 573,
   "metadata": {},
   "outputs": [],
   "source": [
    "data[d+' '] = [labelCGA,*res_GCA]\n",
    "data[s]= [labelLasso,*res_lasso]\n",
    "data['c='+str(parameters['c'])] = [labelLassoCV,*res_lassoCV]"
   ]
  },
  {
   "cell_type": "code",
   "execution_count": 574,
   "metadata": {},
   "outputs": [
    {
     "data": {
      "image/png": "[encoded data removed]",
      "text/plain": [
       "<Figure size 432x288 with 1 Axes>"
      ]
     },
     "metadata": {},
     "output_type": "display_data"
    }
   ],
   "source": [
    "dependence = ['iid']\n",
    "sparsity = ['str']\n",
    "parameters = {'wn':2.0, 'C':0.5, 'cv':10 , 'b':5.0, 'r':1.5, 'c':2.0, 'eta':0.2, \n",
    "              's':4, 'beta0':3, 'beta1':4, 'beta2':3, 'beta3':5}\n",
    "ns = [200, 400, 600, 800]\n",
    "n_test = 300\n",
    "m = 300\n",
    "\n",
    "res_GCA = np.zeros(len(ns))\n",
    "res_lasso = np.zeros(len(ns))\n",
    "res_lassoCV = np.zeros(len(ns))\n",
    "\n",
    "\n",
    "labelCGA = 'GCA('+str(parameters['wn'])+')'\n",
    "labelLasso = 'lasso('+str(parameters['C'])+')'\n",
    "labelLassoCV = 'lassoCV('+str(parameters['cv'])+')'\n",
    "\n",
    "for d in dependence:\n",
    "    for s in sparsity:\n",
    "        for i,n in enumerate(ns):\n",
    "            res_GCA[i] = res[(d, s, n, n_test, m, *list(parameters.values()))][0]\n",
    "            res_lasso[i] = res[(d, s, n, n_test, m, *list(parameters.values()))][1]\n",
    "            res_lassoCV[i] = res[(d, s, n, n_test, m, *list(parameters.values()))][2]\n",
    "        plt.plot(ns, res_GCA, '.-', label='GCA('+str(parameters['wn'])+')')\n",
    "        plt.plot(ns, res_lasso, '.-', label='lasso('+str(parameters['C'])+')')\n",
    "        plt.plot(ns, res_lassoCV, '.-', label='lassoCV('+str(parameters['cv'])+')')\n",
    "        plt.fill_between(ns, res_GCA-sd_GCA/2, res_GCA+sd_GCA/2, alpha = 0.3, label = '0.5 sd')\n",
    "        plt.fill_between(ns, res_lasso-sd_lasso/2, res_lasso+sd_lasso/2, alpha = 0.3)\n",
    "        plt.fill_between(ns, res_lassoCV-sd_lassoCV/2, res_lassoCV+sd_lassoCV/2, alpha = 0.3)\n",
    "plt.ylim(0.1, 0.6)\n",
    "plt.title(d+', '+s)\n",
    "plt.xlabel('sample size')\n",
    "plt.ylabel('negative log-likelihood')\n",
    "plt.legend()\n",
    "plt.savefig(d+'-'+s+'.png', bbox_inches='tight')\n",
    "plt.show()"
   ]
  },
  {
   "cell_type": "code",
   "execution_count": 575,
   "metadata": {},
   "outputs": [],
   "source": [
    "data[d+'  '] = [labelCGA,*res_GCA]\n",
    "data[s]= [labelLasso,*res_lasso]\n",
    "data[' '] = [labelLassoCV,*res_lassoCV]"
   ]
  },
  {
   "cell_type": "code",
   "execution_count": 576,
   "metadata": {},
   "outputs": [],
   "source": [
    "df = pd.DataFrame(data, index=['sample size', 200, 400, 600, 800], dtype=float)"
   ]
  },
  {
   "cell_type": "code",
   "execution_count": 577,
   "metadata": {},
   "outputs": [
    {
     "name": "stdout",
     "output_type": "stream",
     "text": [
      "       sample size    200    400    600    800\n",
      "iid       GCA(2.0)  0.314  0.282  0.273  0.262\n",
      "pol     lasso(0.5)  0.345  0.333  0.335  0.333\n",
      "r=1.5  lassoCV(10)  0.393  0.338  0.306  0.287\n",
      "iid       GCA(2.0)  0.429  0.399  0.396  0.387\n",
      "exp     lasso(0.5)  0.523  0.539  0.556  0.568\n",
      "c=2.0  lassoCV(10)  0.516  0.437  0.414  0.402\n",
      "iid       GCA(2.0)  0.179  0.171  0.168  0.168\n",
      "str     lasso(0.5)  0.280  0.245  0.237  0.233\n",
      "       lassoCV(10)  0.331  0.315  0.271  0.246\n",
      "\n",
      "\n",
      "\\begin{tabular}{llllll}\n",
      "\\toprule\n",
      "{} &  sample size &    200 &    400 &    600 &    800 \\\\\n",
      "\\midrule\n",
      "iid   &     GCA(2.0) &  0.314 &  0.282 &  0.273 &  0.262 \\\\\n",
      "pol   &   lasso(0.5) &  0.345 &  0.333 &  0.335 &  0.333 \\\\\n",
      "r=1.5 &  lassoCV(10) &  0.393 &  0.338 &  0.306 &  0.287 \\\\\n",
      "iid   &     GCA(2.0) &  0.429 &  0.399 &  0.396 &  0.387 \\\\\n",
      "exp   &   lasso(0.5) &  0.523 &  0.539 &  0.556 &  0.568 \\\\\n",
      "c=2.0 &  lassoCV(10) &  0.516 &  0.437 &  0.414 &  0.402 \\\\\n",
      "iid   &     GCA(2.0) &  0.179 &  0.171 &  0.168 &  0.168 \\\\\n",
      "str   &   lasso(0.5) &  0.280 &  0.245 &  0.237 &  0.233 \\\\\n",
      "      &  lassoCV(10) &  0.331 &  0.315 &  0.271 &  0.246 \\\\\n",
      "\\bottomrule\n",
      "\\end{tabular}\n",
      "\n"
     ]
    }
   ],
   "source": [
    "df.T.iloc[:,1:] = df.T.iloc[:,1:].replace('\\$\\s+','', regex=True).astype(float).applymap('{:,.3f}'.format)\n",
    "print(df.T)\n",
    "print('\\n')\n",
    "print(df.T.to_latex())"
   ]
  },
  {
   "cell_type": "code",
   "execution_count": null,
   "metadata": {},
   "outputs": [],
   "source": []
  },
  {
   "cell_type": "markdown",
   "metadata": {},
   "source": [
    "## EQUAL CORRELATION"
   ]
  },
  {
   "cell_type": "code",
   "execution_count": 578,
   "metadata": {},
   "outputs": [],
   "source": [
    "data={}"
   ]
  },
  {
   "cell_type": "code",
   "execution_count": 579,
   "metadata": {},
   "outputs": [
    {
     "data": {
      "image/png": "[encoded data removed]",
      "text/plain": [
       "<Figure size 432x288 with 1 Axes>"
      ]
     },
     "metadata": {},
     "output_type": "display_data"
    }
   ],
   "source": [
    "dependence = ['eqcorr']\n",
    "sparsity = ['pol']\n",
    "parameters = {'wn':2.0, 'C':0.5, 'cv':10 , 'b':5.0, 'r':1.5, 'c':2.0, 'eta':0.8, \n",
    "              's':4, 'beta0':3, 'beta1':4, 'beta2':3, 'beta3':5}\n",
    "ns = [200, 400, 600, 800]\n",
    "n_test = 300\n",
    "m = 300\n",
    "\n",
    "res_GCA = np.zeros(len(ns))\n",
    "res_lasso = np.zeros(len(ns))\n",
    "res_lassoCV = np.zeros(len(ns))\n",
    "\n",
    "labelCGA = 'GCA('+str(parameters['wn'])+')'\n",
    "labelLasso = 'lasso('+str(parameters['C'])+')'\n",
    "labelLassoCV = 'lassoCV('+str(parameters['cv'])+')'\n",
    "\n",
    "for d in dependence:\n",
    "    for s in sparsity:\n",
    "        for i,n in enumerate(ns):\n",
    "            res_GCA[i] = res[(d, s, n, n_test, m, *list(parameters.values()))][0]\n",
    "            res_lasso[i] = res[(d, s, n, n_test, m, *list(parameters.values()))][1]\n",
    "            res_lassoCV[i] = res[(d, s, n, n_test, m, *list(parameters.values()))][2]\n",
    "        plt.plot(ns, res_GCA, '.-', label=labelCGA)\n",
    "        plt.plot(ns, res_lasso, '.-', label=labelLasso)\n",
    "        plt.plot(ns, res_lassoCV, '.-', label=labelLassoCV)\n",
    "        plt.fill_between(ns, res_GCA-sd_GCA/2, res_GCA+sd_GCA/2, alpha = 0.3, label = '0.5 sd')\n",
    "        plt.fill_between(ns, res_lasso-sd_lasso/2, res_lasso+sd_lasso/2, alpha = 0.3)\n",
    "        plt.fill_between(ns, res_lassoCV-sd_lassoCV/2, res_lassoCV+sd_lassoCV/2, alpha = 0.3)\n",
    "plt.ylim(0.1, 0.6)\n",
    "plt.title(d+', '+s+', r='+str(parameters['r']))\n",
    "plt.xlabel('sample size')\n",
    "plt.ylabel('negative log-likelihood')\n",
    "plt.legend()\n",
    "plt.savefig(d+'-'+s+'-r-'+str(parameters['r']).replace(\".\", \"\")+'.png', bbox_inches='tight')\n",
    "plt.show()"
   ]
  },
  {
   "cell_type": "code",
   "execution_count": 580,
   "metadata": {},
   "outputs": [],
   "source": [
    "data[d] = [labelCGA,*res_GCA]\n",
    "data[s]= [labelLasso,*res_lasso]\n",
    "data['r='+str(parameters['r'])] = [labelLassoCV,*res_lassoCV]"
   ]
  },
  {
   "cell_type": "code",
   "execution_count": 581,
   "metadata": {},
   "outputs": [
    {
     "data": {
      "image/png": "[encoded data removed]",
      "text/plain": [
       "<Figure size 432x288 with 1 Axes>"
      ]
     },
     "metadata": {},
     "output_type": "display_data"
    }
   ],
   "source": [
    "sparsity = ['exp']\n",
    "parameters = {'wn':2.0, 'C':0.5, 'cv':10 , 'b':5.0, 'r':1.5, 'c':2.0, 'eta':0.8, \n",
    "              's':4, 'beta0':3, 'beta1':4, 'beta2':3, 'beta3':5}\n",
    "ns = [200, 400, 600, 800]\n",
    "n_test = 300\n",
    "m = 300\n",
    "\n",
    "res_GCA = np.zeros(len(ns))\n",
    "res_lasso = np.zeros(len(ns))\n",
    "res_lassoCV = np.zeros(len(ns))\n",
    "\n",
    "labelCGA = 'GCA('+str(parameters['wn'])+')'\n",
    "labelLasso = 'lasso('+str(parameters['C'])+')'\n",
    "labelLassoCV = 'lassoCV('+str(parameters['cv'])+')'\n",
    "\n",
    "for d in dependence:\n",
    "    for s in sparsity:\n",
    "        for i,n in enumerate(ns):\n",
    "            res_GCA[i] = res[(d, s, n, n_test, m, *list(parameters.values()))][0]\n",
    "            res_lasso[i] = res[(d, s, n, n_test, m, *list(parameters.values()))][1]\n",
    "            res_lassoCV[i] = res[(d, s, n, n_test, m, *list(parameters.values()))][2]\n",
    "        plt.plot(ns, res_GCA, '.-', label='GCA('+str(parameters['wn'])+')')\n",
    "        plt.plot(ns, res_lasso, '.-', label='lasso('+str(parameters['C'])+')')\n",
    "        plt.plot(ns, res_lassoCV, '.-', label='lassoCV('+str(parameters['cv'])+')')\n",
    "        plt.fill_between(ns, res_GCA-sd_GCA/2, res_GCA+sd_GCA/2, alpha = 0.3, label = '0.5 sd')\n",
    "        plt.fill_between(ns, res_lasso-sd_lasso/2, res_lasso+sd_lasso/2, alpha = 0.3)\n",
    "        plt.fill_between(ns, res_lassoCV-sd_lassoCV/2, res_lassoCV+sd_lassoCV/2, alpha = 0.3)\n",
    "plt.ylim(0.1, 0.6)\n",
    "plt.title( d+', '+s+', c='+str(parameters['c']))\n",
    "plt.xlabel('sample size')\n",
    "plt.ylabel('negative log-likelihood')\n",
    "plt.legend()\n",
    "plt.savefig(d+'-'+s+'-c-'+str(parameters['c']).replace(\".\", \"\")+'.png', bbox_inches='tight')\n",
    "plt.show()"
   ]
  },
  {
   "cell_type": "code",
   "execution_count": 582,
   "metadata": {},
   "outputs": [],
   "source": [
    "data[d+' '] = [labelCGA,*res_GCA]\n",
    "data[s]= [labelLasso,*res_lasso]\n",
    "data['c='+str(parameters['c'])] = [labelLassoCV,*res_lassoCV]"
   ]
  },
  {
   "cell_type": "code",
   "execution_count": 583,
   "metadata": {},
   "outputs": [
    {
     "data": {
      "image/png": "[encoded data removed]",
      "text/plain": [
       "<Figure size 432x288 with 1 Axes>"
      ]
     },
     "metadata": {},
     "output_type": "display_data"
    }
   ],
   "source": [
    "sparsity = ['str']\n",
    "parameters = {'wn':2.0, 'C':0.5, 'cv':10 , 'b':5.0, 'r':1.5, 'c':2.0, 'eta':0.8, \n",
    "              's':4, 'beta0':3, 'beta1':4, 'beta2':3, 'beta3':5}\n",
    "ns = [200, 400, 600, 800]\n",
    "n_test = 300\n",
    "m = 300\n",
    "\n",
    "res_GCA = np.zeros(len(ns))\n",
    "res_lasso = np.zeros(len(ns))\n",
    "res_lassoCV = np.zeros(len(ns))\n",
    "\n",
    "\n",
    "labelCGA = 'GCA('+str(parameters['wn'])+')'\n",
    "labelLasso = 'lasso('+str(parameters['C'])+')'\n",
    "labelLassoCV = 'lassoCV('+str(parameters['cv'])+')'\n",
    "\n",
    "for d in dependence:\n",
    "    for s in sparsity:\n",
    "        for i,n in enumerate(ns):\n",
    "            res_GCA[i] = res[(d, s, n, n_test, m, *list(parameters.values()))][0]\n",
    "            res_lasso[i] = res[(d, s, n, n_test, m, *list(parameters.values()))][1]\n",
    "            res_lassoCV[i] = res[(d, s, n, n_test, m, *list(parameters.values()))][2]\n",
    "        plt.plot(ns, res_GCA, '.-', label='GCA('+str(parameters['wn'])+')')\n",
    "        plt.plot(ns, res_lasso, '.-', label='lasso('+str(parameters['C'])+')')\n",
    "        plt.plot(ns, res_lassoCV, '.-', label='lassoCV('+str(parameters['cv'])+')')\n",
    "        plt.fill_between(ns, res_GCA-sd_GCA/2, res_GCA+sd_GCA/2, alpha = 0.3, label = '0.5 sd')\n",
    "        plt.fill_between(ns, res_lasso-sd_lasso/2, res_lasso+sd_lasso/2, alpha = 0.3)\n",
    "        plt.fill_between(ns, res_lassoCV-sd_lassoCV/2, res_lassoCV+sd_lassoCV/2, alpha = 0.3)\n",
    "plt.ylim(0.1, 0.6)\n",
    "title = d+', '+s\n",
    "plt.title(title)\n",
    "plt.xlabel('sample size')\n",
    "plt.ylabel('negative log-likelihood')\n",
    "plt.legend()\n",
    "plt.savefig(d+'-'+s+'.png', bbox_inches='tight')\n",
    "plt.show()"
   ]
  },
  {
   "cell_type": "code",
   "execution_count": 584,
   "metadata": {},
   "outputs": [],
   "source": [
    "data[d+'  '] = [labelCGA,*res_GCA]\n",
    "data[s]= [labelLasso,*res_lasso]\n",
    "data[' '] = [labelLassoCV,*res_lassoCV]"
   ]
  },
  {
   "cell_type": "code",
   "execution_count": 585,
   "metadata": {},
   "outputs": [],
   "source": [
    "df = pd.DataFrame(data, index=['sample size', 200, 400, 600, 800], dtype=float)"
   ]
  },
  {
   "cell_type": "code",
   "execution_count": 586,
   "metadata": {},
   "outputs": [
    {
     "name": "stdout",
     "output_type": "stream",
     "text": [
      "          sample size    200    400    600    800\n",
      "eqcorr       GCA(2.0)  0.321  0.283  0.270  0.261\n",
      "pol        lasso(0.5)  0.326  0.308  0.308  0.307\n",
      "r=1.5     lassoCV(10)  0.374  0.326  0.299  0.278\n",
      "eqcorr       GCA(2.0)  0.418  0.386  0.381  0.375\n",
      "exp        lasso(0.5)  0.506  0.520  0.533  0.543\n",
      "c=2.0     lassoCV(10)  0.505  0.422  0.399  0.388\n",
      "eqcorr       GCA(2.0)  0.169  0.160  0.158  0.153\n",
      "str        lasso(0.5)  0.264  0.234  0.224  0.216\n",
      "          lassoCV(10)  0.331  0.303  0.257  0.232\n",
      "\n",
      "\n",
      "\\begin{tabular}{llllll}\n",
      "\\toprule\n",
      "{} &  sample size &    200 &    400 &    600 &    800 \\\\\n",
      "\\midrule\n",
      "eqcorr   &     GCA(2.0) &  0.321 &  0.283 &  0.270 &  0.261 \\\\\n",
      "pol      &   lasso(0.5) &  0.326 &  0.308 &  0.308 &  0.307 \\\\\n",
      "r=1.5    &  lassoCV(10) &  0.374 &  0.326 &  0.299 &  0.278 \\\\\n",
      "eqcorr   &     GCA(2.0) &  0.418 &  0.386 &  0.381 &  0.375 \\\\\n",
      "exp      &   lasso(0.5) &  0.506 &  0.520 &  0.533 &  0.543 \\\\\n",
      "c=2.0    &  lassoCV(10) &  0.505 &  0.422 &  0.399 &  0.388 \\\\\n",
      "eqcorr   &     GCA(2.0) &  0.169 &  0.160 &  0.158 &  0.153 \\\\\n",
      "str      &   lasso(0.5) &  0.264 &  0.234 &  0.224 &  0.216 \\\\\n",
      "         &  lassoCV(10) &  0.331 &  0.303 &  0.257 &  0.232 \\\\\n",
      "\\bottomrule\n",
      "\\end{tabular}\n",
      "\n"
     ]
    }
   ],
   "source": [
    "df.T.iloc[:,1:] = df.T.iloc[:,1:].replace('\\$\\s+','', regex=True).astype(float).applymap('{:,.3f}'.format)\n",
    "print(df.T)\n",
    "print('\\n')\n",
    "print(df.T.to_latex())"
   ]
  },
  {
   "cell_type": "code",
   "execution_count": null,
   "metadata": {},
   "outputs": [],
   "source": []
  },
  {
   "cell_type": "markdown",
   "metadata": {},
   "source": [
    "## EQUAL CORRELATION 2"
   ]
  },
  {
   "cell_type": "code",
   "execution_count": 587,
   "metadata": {},
   "outputs": [],
   "source": [
    "data={}"
   ]
  },
  {
   "cell_type": "code",
   "execution_count": 588,
   "metadata": {},
   "outputs": [
    {
     "data": {
      "image/png": "[encoded data removed]",
      "text/plain": [
       "<Figure size 432x288 with 1 Axes>"
      ]
     },
     "metadata": {},
     "output_type": "display_data"
    }
   ],
   "source": [
    "dependence = ['eqcorr2']\n",
    "sparsity = ['pol']\n",
    "parameters = {'wn':2.0, 'C':0.5, 'cv':10 , 'b':5.0, 'r':1.5, 'c':2.0, 'eta':0.9, \n",
    "              's':4, 'beta0':3, 'beta1':4, 'beta2':3, 'beta3':5}\n",
    "ns = [200, 400, 600, 800]\n",
    "n_test = 300\n",
    "m = 300\n",
    "\n",
    "res_GCA = np.zeros(len(ns))\n",
    "res_lasso = np.zeros(len(ns))\n",
    "res_lassoCV = np.zeros(len(ns))\n",
    "\n",
    "labelCGA = 'GCA('+str(parameters['wn'])+')'\n",
    "labelLasso = 'lasso('+str(parameters['C'])+')'\n",
    "labelLassoCV = 'lassoCV('+str(parameters['cv'])+')'\n",
    "\n",
    "for d in dependence:\n",
    "    for s in sparsity:\n",
    "        for i,n in enumerate(ns):\n",
    "            res_GCA[i] = res[(d, s, n, n_test, m, *list(parameters.values()))][0]\n",
    "            res_lasso[i] = res[(d, s, n, n_test, m, *list(parameters.values()))][1]\n",
    "            res_lassoCV[i] = res[(d, s, n, n_test, m, *list(parameters.values()))][2]\n",
    "        plt.plot(ns, res_GCA, '.-', label=labelCGA)\n",
    "        plt.plot(ns, res_lasso, '.-', label=labelLasso)\n",
    "        plt.plot(ns, res_lassoCV, '.-', label=labelLassoCV)\n",
    "        plt.fill_between(ns, res_GCA-sd_GCA/2, res_GCA+sd_GCA/2, alpha = 0.3, label = '0.5 sd')\n",
    "        plt.fill_between(ns, res_lasso-sd_lasso/2, res_lasso+sd_lasso/2, alpha = 0.3)\n",
    "        plt.fill_between(ns, res_lassoCV-sd_lassoCV/2, res_lassoCV+sd_lassoCV/2, alpha = 0.3)\n",
    "plt.ylim(0.1, 0.6)\n",
    "plt.title(d+', '+s+', r='+str(parameters['r']))\n",
    "plt.xlabel('sample size')\n",
    "plt.ylabel('negative log-likelihood')\n",
    "plt.legend()\n",
    "plt.savefig(d+'-'+s+'-r-'+str(parameters['r']).replace(\".\", \"\")+'.png', bbox_inches='tight')\n",
    "plt.show()"
   ]
  },
  {
   "cell_type": "code",
   "execution_count": 589,
   "metadata": {},
   "outputs": [],
   "source": [
    "data[d] = [labelCGA,*res_GCA]\n",
    "data[s]= [labelLasso,*res_lasso]\n",
    "data['r='+str(parameters['r'])] = [labelLassoCV,*res_lassoCV]"
   ]
  },
  {
   "cell_type": "code",
   "execution_count": 590,
   "metadata": {},
   "outputs": [
    {
     "data": {
      "image/png": "[encoded data removed]",
      "text/plain": [
       "<Figure size 432x288 with 1 Axes>"
      ]
     },
     "metadata": {},
     "output_type": "display_data"
    }
   ],
   "source": [
    "sparsity = ['exp']\n",
    "parameters = {'wn':2.0, 'C':0.5, 'cv':10 , 'b':5.0, 'r':1.5, 'c':2.0, 'eta':0.9, \n",
    "              's':4, 'beta0':3, 'beta1':4, 'beta2':3, 'beta3':5}\n",
    "ns = [200, 400, 600, 800]\n",
    "n_test = 300\n",
    "m = 300\n",
    "\n",
    "res_GCA = np.zeros(len(ns))\n",
    "res_lasso = np.zeros(len(ns))\n",
    "res_lassoCV = np.zeros(len(ns))\n",
    "\n",
    "labelCGA = 'GCA('+str(parameters['wn'])+')'\n",
    "labelLasso = 'lasso('+str(parameters['C'])+')'\n",
    "labelLassoCV = 'lassoCV('+str(parameters['cv'])+')'\n",
    "\n",
    "for d in dependence:\n",
    "    for s in sparsity:\n",
    "        for i,n in enumerate(ns):\n",
    "            res_GCA[i] = res[(d, s, n, n_test, m, *list(parameters.values()))][0]\n",
    "            res_lasso[i] = res[(d, s, n, n_test, m, *list(parameters.values()))][1]\n",
    "            res_lassoCV[i] = res[(d, s, n, n_test, m, *list(parameters.values()))][2]\n",
    "        plt.plot(ns, res_GCA, '.-', label='GCA('+str(parameters['wn'])+')')\n",
    "        plt.plot(ns, res_lasso, '.-', label='lasso('+str(parameters['C'])+')')\n",
    "        plt.plot(ns, res_lassoCV, '.-', label='lassoCV('+str(parameters['cv'])+')')\n",
    "        plt.fill_between(ns, res_GCA-sd_GCA/2, res_GCA+sd_GCA/2, alpha = 0.3, label = '0.5 sd')\n",
    "        plt.fill_between(ns, res_lasso-sd_lasso/2, res_lasso+sd_lasso/2, alpha = 0.3)\n",
    "        plt.fill_between(ns, res_lassoCV-sd_lassoCV/2, res_lassoCV+sd_lassoCV/2, alpha = 0.3)\n",
    "plt.ylim(0.1, 0.6)\n",
    "title = d+', '+s+', c='+str(parameters['c'])\n",
    "plt.title(title)\n",
    "plt.xlabel('sample size')\n",
    "plt.ylabel('negative log-likelihood')\n",
    "plt.legend()\n",
    "plt.savefig(d+'-'+s+'-c-'+str(parameters['c']).replace(\".\", \"\")+'.png', bbox_inches='tight')\n",
    "plt.show()"
   ]
  },
  {
   "cell_type": "code",
   "execution_count": 591,
   "metadata": {},
   "outputs": [],
   "source": [
    "data[d+' '] = [labelCGA,*res_GCA]\n",
    "data[s]= [labelLasso,*res_lasso]\n",
    "data['c='+str(parameters['c'])] = [labelLassoCV,*res_lassoCV]"
   ]
  },
  {
   "cell_type": "code",
   "execution_count": 592,
   "metadata": {},
   "outputs": [
    {
     "data": {
      "image/png": "[encoded data removed]",
      "text/plain": [
       "<Figure size 432x288 with 1 Axes>"
      ]
     },
     "metadata": {},
     "output_type": "display_data"
    }
   ],
   "source": [
    "sparsity = ['str']\n",
    "parameters = {'wn':2.0, 'C':0.5, 'cv':10 , 'b':5.0, 'r':1.5, 'c':2.0, 'eta':0.9, \n",
    "              's':4, 'beta0':3, 'beta1':4, 'beta2':3, 'beta3':5}\n",
    "ns = [200, 400, 600, 800]\n",
    "n_test = 300\n",
    "m = 300\n",
    "\n",
    "res_GCA = np.zeros(len(ns))\n",
    "res_lasso = np.zeros(len(ns))\n",
    "res_lassoCV = np.zeros(len(ns))\n",
    "\n",
    "\n",
    "labelCGA = 'GCA('+str(parameters['wn'])+')'\n",
    "labelLasso = 'lasso('+str(parameters['C'])+')'\n",
    "labelLassoCV = 'lassoCV('+str(parameters['cv'])+')'\n",
    "\n",
    "for d in dependence:\n",
    "    for s in sparsity:\n",
    "        for i,n in enumerate(ns):\n",
    "            res_GCA[i] = res[(d, s, n, n_test, m, *list(parameters.values()))][0]\n",
    "            res_lasso[i] = res[(d, s, n, n_test, m, *list(parameters.values()))][1]\n",
    "            res_lassoCV[i] = res[(d, s, n, n_test, m, *list(parameters.values()))][2]\n",
    "        plt.plot(ns, res_GCA, '.-', label='GCA('+str(parameters['wn'])+')')\n",
    "        plt.plot(ns, res_lasso, '.-', label='lasso('+str(parameters['C'])+')')\n",
    "        plt.plot(ns, res_lassoCV, '.-', label='lassoCV('+str(parameters['cv'])+')')\n",
    "        plt.fill_between(ns, res_GCA-sd_GCA/2, res_GCA+sd_GCA/2, alpha = 0.3, label = '0.5 sd')\n",
    "        plt.fill_between(ns, res_lasso-sd_lasso/2, res_lasso+sd_lasso/2, alpha = 0.3)\n",
    "        plt.fill_between(ns, res_lassoCV-sd_lassoCV/2, res_lassoCV+sd_lassoCV/2, alpha = 0.3)\n",
    "plt.ylim(0.1, 0.6)\n",
    "title = d+', '+s\n",
    "plt.title(title)\n",
    "plt.xlabel('sample size')\n",
    "plt.ylabel('negative log-likelihood')\n",
    "plt.legend()\n",
    "plt.savefig(d+'-'+s+'.png', bbox_inches='tight')\n",
    "plt.show()"
   ]
  },
  {
   "cell_type": "code",
   "execution_count": 593,
   "metadata": {},
   "outputs": [],
   "source": [
    "data[d+'  '] = [labelCGA,*res_GCA]\n",
    "data[s]= [labelLasso,*res_lasso]\n",
    "data[' '] = [labelLassoCV,*res_lassoCV]"
   ]
  },
  {
   "cell_type": "code",
   "execution_count": 594,
   "metadata": {},
   "outputs": [],
   "source": [
    "df = pd.DataFrame(data, index=['sample size', 200, 400, 600, 800], dtype=float)"
   ]
  },
  {
   "cell_type": "code",
   "execution_count": 595,
   "metadata": {},
   "outputs": [
    {
     "name": "stdout",
     "output_type": "stream",
     "text": [
      "           sample size    200    400    600    800\n",
      "eqcorr2       GCA(2.0)  0.258  0.221  0.198  0.192\n",
      "pol         lasso(0.5)  0.267  0.251  0.242  0.240\n",
      "r=1.5      lassoCV(10)  0.326  0.278  0.246  0.229\n",
      "eqcorr2       GCA(2.0)  0.364  0.337  0.326  0.323\n",
      "exp         lasso(0.5)  0.428  0.436  0.449  0.460\n",
      "c=2.0      lassoCV(10)  0.463  0.378  0.347  0.343\n",
      "eqcorr2       GCA(2.0)  0.153  0.124  0.126  0.123\n",
      "str         lasso(0.5)  0.235  0.204  0.201  0.195\n",
      "           lassoCV(10)  0.337  0.260  0.223  0.201\n",
      "\n",
      "\n",
      "\\begin{tabular}{llllll}\n",
      "\\toprule\n",
      "{} &  sample size &    200 &    400 &    600 &    800 \\\\\n",
      "\\midrule\n",
      "eqcorr2   &     GCA(2.0) &  0.258 &  0.221 &  0.198 &  0.192 \\\\\n",
      "pol       &   lasso(0.5) &  0.267 &  0.251 &  0.242 &  0.240 \\\\\n",
      "r=1.5     &  lassoCV(10) &  0.326 &  0.278 &  0.246 &  0.229 \\\\\n",
      "eqcorr2   &     GCA(2.0) &  0.364 &  0.337 &  0.326 &  0.323 \\\\\n",
      "exp       &   lasso(0.5) &  0.428 &  0.436 &  0.449 &  0.460 \\\\\n",
      "c=2.0     &  lassoCV(10) &  0.463 &  0.378 &  0.347 &  0.343 \\\\\n",
      "eqcorr2   &     GCA(2.0) &  0.153 &  0.124 &  0.126 &  0.123 \\\\\n",
      "str       &   lasso(0.5) &  0.235 &  0.204 &  0.201 &  0.195 \\\\\n",
      "          &  lassoCV(10) &  0.337 &  0.260 &  0.223 &  0.201 \\\\\n",
      "\\bottomrule\n",
      "\\end{tabular}\n",
      "\n"
     ]
    }
   ],
   "source": [
    "df.T.iloc[:,1:] = df.T.iloc[:,1:].replace('\\$\\s+','', regex=True).astype(float).applymap('{:,.3f}'.format)\n",
    "print(df.T)\n",
    "print('\\n')\n",
    "print(df.T.to_latex())"
   ]
  },
  {
   "cell_type": "code",
   "execution_count": null,
   "metadata": {},
   "outputs": [],
   "source": []
  },
  {
   "cell_type": "code",
   "execution_count": null,
   "metadata": {},
   "outputs": [],
   "source": []
  }
 ],
 "metadata": {
  "kernelspec": {
   "display_name": "Python 3",
   "language": "python",
   "name": "python3"
  },
  "language_info": {
   "codemirror_mode": {
    "name": "ipython",
    "version": 3
   },
   "file_extension": ".py",
   "mimetype": "text/x-python",
   "name": "python",
   "nbconvert_exporter": "python",
   "pygments_lexer": "ipython3",
   "version": "3.7.0"
  }
 },
 "nbformat": 4,
 "nbformat_minor": 2
}
