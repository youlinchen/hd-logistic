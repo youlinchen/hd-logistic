{
 "cells": [
  {
   "cell_type": "code",
   "execution_count": 2,
   "metadata": {
    "collapsed": true
   },
   "outputs": [],
   "source": [
    "import numpy as np\n",
    "from numpy import random\n",
    "from scipy import linalg, optimize, spatial\n",
    "\n",
    "import matplotlib.pyplot as plt\n",
    "from hdlogistic import *"
   ]
  },
  {
   "cell_type": "code",
   "execution_count": 3,
   "metadata": {
    "collapsed": true
   },
   "outputs": [],
   "source": [
    "from sklearn import datasets, neighbors, linear_model\n",
    "from sklearn.multiclass import OneVsRestClassifier, OneVsOneClassifier\n",
    "from sklearn.svm import LinearSVC\n",
    "from sklearn.model_selection import GridSearchCV"
   ]
  },
  {
   "cell_type": "markdown",
   "metadata": {},
   "source": [
    "See:http://scikit-learn.org/stable/auto_examples/datasets/plot_digits_last_image.html#sphx-glr-auto-examples-datasets-plot-digits-last-image-py"
   ]
  },
  {
   "cell_type": "code",
   "execution_count": 4,
   "metadata": {
    "collapsed": true
   },
   "outputs": [],
   "source": [
    "digits = datasets.load_digits()\n",
    "X_digits = digits.data\n",
    "y_digits = digits.target\n",
    "\n",
    "n_samples = len(X_digits)\n",
    "\n",
    "X_train = X_digits[:int(.9 * n_samples)]\n",
    "y_train = y_digits[:int(.9 * n_samples)]\n",
    "X_test = X_digits[int(.9 * n_samples):]\n",
    "y_test = y_digits[int(.9 * n_samples):]"
   ]
  },
  {
   "cell_type": "code",
   "execution_count": 5,
   "metadata": {
    "collapsed": false
   },
   "outputs": [
    {
     "data": {
      "image/png": "[encoded data removed]",
      "text/plain": [
       "<matplotlib.figure.Figure at 0x10abe7860>"
      ]
     },
     "metadata": {},
     "output_type": "display_data"
    }
   ],
   "source": [
    "plt.figure(1, figsize=(3, 3))\n",
    "plt.imshow(digits.images[-1], cmap=plt.cm.gray_r, interpolation='nearest')\n",
    "plt.show()"
   ]
  },
  {
   "cell_type": "markdown",
   "metadata": {},
   "source": [
    "# Normal case(compare with orther 3 classifier: KNN, L1-logistic, SVC)"
   ]
  },
  {
   "cell_type": "code",
   "execution_count": 6,
   "metadata": {
    "collapsed": false
   },
   "outputs": [
    {
     "name": "stdout",
     "output_type": "stream",
     "text": [
      "KNN score: 0.961111\n",
      "LogisticRegression score: 0.944444\n",
      "LSVC_OvR score: 0.900000\n",
      "hdlogistic_OvR score: 0.922222\n"
     ]
    }
   ],
   "source": [
    "knn = neighbors.KNeighborsClassifier()\n",
    "logistic = linear_model.LogisticRegression(C=16)\n",
    "LSVC_OvR = OneVsRestClassifier(LinearSVC(random_state=0))\n",
    "hdlogistic_OvR = OneVsRestClassifier(HighDimensionalLogisticRegression(wn=0.4, kn= 2, trimming=False,\n",
    "                                                                       ic='AIC',tol=1e-2))\n",
    "\n",
    "print('KNN score: %f' % knn.fit(X_train, y_train).score(X_test, y_test))\n",
    "print('LogisticRegression score: %f' % logistic.fit(X_train, y_train).score(X_test, y_test))\n",
    "print('LSVC_OvR score: %f' % LSVC_OvR.fit(X_train, y_train).score(X_test,y_test))\n",
    "print('hdlogistic_OvR score: %f' % hdlogistic_OvR.fit(X_train, y_train).score(X_test,y_test))"
   ]
  },
  {
   "cell_type": "markdown",
   "metadata": {},
   "source": [
    "# Add interaction terms"
   ]
  },
  {
   "cell_type": "code",
   "execution_count": 7,
   "metadata": {
    "collapsed": false
   },
   "outputs": [],
   "source": [
    "X_digits_cross = np.zeros([1797,64+64*63])"
   ]
  },
  {
   "cell_type": "code",
   "execution_count": 8,
   "metadata": {
    "collapsed": false
   },
   "outputs": [],
   "source": [
    "k2 = 63\n",
    "for k1 in range(X_digits.shape[0]):\n",
    "    for i in range(X_digits.shape[1]):\n",
    "        for j in range(i+1,X_digits.shape[1]):\n",
    "            k2 += 1\n",
    "            X_digits_cross[k1,k2] = X_digits[k1,i] * X_digits[k1,j] / 15.0\n",
    "    k2 = 63"
   ]
  },
  {
   "cell_type": "code",
   "execution_count": 9,
   "metadata": {
    "collapsed": false
   },
   "outputs": [],
   "source": [
    "X_train_cross = X_digits_cross[:int(.9 * n_samples)]\n",
    "X_test_cross = X_digits_cross[int(.9 * n_samples):]"
   ]
  },
  {
   "cell_type": "code",
   "execution_count": 10,
   "metadata": {
    "collapsed": false
   },
   "outputs": [
    {
     "name": "stdout",
     "output_type": "stream",
     "text": [
      "KNN score: 0.966667\n"
     ]
    }
   ],
   "source": [
    "knn = neighbors.KNeighborsClassifier()\n",
    "print('KNN score: %f' % knn.fit(X_train_cross, y_train).score(X_test_cross, y_test))"
   ]
  },
  {
   "cell_type": "code",
   "execution_count": 11,
   "metadata": {
    "collapsed": false
   },
   "outputs": [
    {
     "name": "stdout",
     "output_type": "stream",
     "text": [
      "LogisticRegression score: 0.966667\n"
     ]
    }
   ],
   "source": [
    "logistic = linear_model.LogisticRegression(C=1)\n",
    "print('LogisticRegression score: %f' % logistic.fit(X_train_cross, y_train).score(X_test_cross, y_test))"
   ]
  },
  {
   "cell_type": "code",
   "execution_count": 12,
   "metadata": {
    "collapsed": false
   },
   "outputs": [
    {
     "name": "stdout",
     "output_type": "stream",
     "text": [
      "LSVC_OvR score: 0.966667\n"
     ]
    }
   ],
   "source": [
    "LSVC_OvR = OneVsRestClassifier(LinearSVC(random_state=0))\n",
    "print('LSVC_OvR score: %f' % LSVC_OvR.fit(X_train_cross, y_train).score(X_test_cross,y_test))"
   ]
  },
  {
   "cell_type": "code",
   "execution_count": 17,
   "metadata": {
    "collapsed": false
   },
   "outputs": [
    {
     "name": "stdout",
     "output_type": "stream",
     "text": [
      "hdlogistic_OvR score: 0.933333\n"
     ]
    }
   ],
   "source": [
    "hdlogistic_OvR = OneVsRestClassifier(HighDimensionalLogisticRegression(wn = 0.3, kn= 1.5, \n",
    "                                                                       tol=1e-2,ic='AIC'))\n",
    "print('hdlogistic_OvR score: %f' % hdlogistic_OvR.fit(X_train_cross, y_train).score(X_test_cross,y_test))"
   ]
  }
 ],
 "metadata": {
  "anaconda-cloud": {},
  "kernelspec": {
   "display_name": "Python [conda root]",
   "language": "python",
   "name": "conda-root-py"
  },
  "language_info": {
   "codemirror_mode": {
    "name": "ipython",
    "version": 3
   },
   "file_extension": ".py",
   "mimetype": "text/x-python",
   "name": "python",
   "nbconvert_exporter": "python",
   "pygments_lexer": "ipython3",
   "version": "3.5.2"
  }
 },
 "nbformat": 4,
 "nbformat_minor": 1
}
